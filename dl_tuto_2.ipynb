{
  "nbformat": 4,
  "nbformat_minor": 0,
  "metadata": {
    "colab": {
      "name": "dl_tuto_2.ipynb",
      "version": "0.3.2",
      "provenance": [],
      "include_colab_link": true
    },
    "kernelspec": {
      "name": "python3",
      "display_name": "Python 3"
    }
  },
  "cells": [
    {
      "cell_type": "markdown",
      "metadata": {
        "id": "view-in-github",
        "colab_type": "text"
      },
      "source": [
        "<a href=\"https://colab.research.google.com/github/boscherj/deep-learning4coders/blob/master/dl_tuto_2.ipynb\" target=\"_parent\"><img src=\"https://colab.research.google.com/assets/colab-badge.svg\" alt=\"Open In Colab\"/></a>"
      ]
    },
    {
      "metadata": {
        "id": "-yBXJYzLq-M6",
        "colab_type": "text"
      },
      "cell_type": "markdown",
      "source": [
        "# Classification d'images\n",
        "\n",
        "Cette première leçon reprend le cours de @jeremyphoward de [fastai](https://course.fast.ai/videos/?lesson=1), un cours déjà largement commenté sur le site [intelligence-artificielle.agency](http://intelligence-artificielle.agency/notes-sur-la-lecon-1-de-fastai-deep-learning/) mais qui comme pour tout ce qui est intéressant et profond mérite qu'on y revienne regulièrement.\n",
        "\n",
        "Ce cours est une [vidéo](https://course.fast.ai/videos/?lesson=1) de 1h40 accompagné d'un notebook [Jupyter](https://colab.research.google.com/github/fastai/course-v3/blob/master/nbs/dl1/lesson1-pets.ipynb). \n"
      ]
    },
    {
      "metadata": {
        "id": "zQWAIIsEwINp",
        "colab_type": "text"
      },
      "cell_type": "markdown",
      "source": [
        "Bien comprendre cette première leçon est important car tout y est présent : la méthode, les concepts, les outils."
      ]
    },
    {
      "metadata": {
        "id": "IWQZdUwrtTru",
        "colab_type": "code",
        "colab": {}
      },
      "cell_type": "code",
      "source": [
        ""
      ],
      "execution_count": 0,
      "outputs": []
    }
  ]
}