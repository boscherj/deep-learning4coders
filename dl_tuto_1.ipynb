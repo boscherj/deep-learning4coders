{
  "nbformat": 4,
  "nbformat_minor": 0,
  "metadata": {
    "colab": {
      "name": "dl_tuto_1.ipynb",
      "version": "0.3.2",
      "provenance": [],
      "include_colab_link": true
    },
    "kernelspec": {
      "name": "python3",
      "display_name": "Python 3"
    },
    "accelerator": "GPU"
  },
  "cells": [
    {
      "cell_type": "markdown",
      "metadata": {
        "id": "view-in-github",
        "colab_type": "text"
      },
      "source": [
        "<a href=\"https://colab.research.google.com/github/boscherj/deep-learning4coders/blob/master/dl_tuto_1.ipynb\" target=\"_parent\"><img src=\"https://colab.research.google.com/assets/colab-badge.svg\" alt=\"Open In Colab\"/></a>"
      ]
    },
    {
      "metadata": {
        "id": "wka7htpfWrhG",
        "colab_type": "text"
      },
      "cell_type": "markdown",
      "source": [
        "# Pour commencer\n",
        "\n",
        "---"
      ]
    },
    {
      "metadata": {
        "id": "XMLxYWXWW5zM",
        "colab_type": "text"
      },
      "cell_type": "markdown",
      "source": [
        "## Destinataires de ce blog\n",
        "Ce tutoriel est destiné aux informaticiens, aux statisticiens, aux ingénieurs et plus généralement à tous ceux qui veulent se former au Deep Learning (apprentissage profond) à l'aide d'exemples logiciels. Il n'y aura pas de discussion théorique sur les bénéfices de telle ou telle méthode. L'approche est \"apprendre en codant\"\n",
        "\n",
        "Ces cours sont fortement inspirés de ceux de [fastai](https://course.fast.ai/index.html), @jeremyphoward."
      ]
    },
    {
      "metadata": {
        "id": "ABmbkXDkYZLE",
        "colab_type": "text"
      },
      "cell_type": "markdown",
      "source": [
        "## Prérequis\n",
        "###Python 3\n",
        "\n",
        "Il faut savoir coder, de préférence en Python et encore mieux avec Python 3.\n",
        "Si vous ne le savez pas, mais que vous connaissez un autre langage de programmation, alors vous pourrez (peut-être) suivre ces tutoriels, mais vous devrez alors, de temps en temps, vous former à quelques aspects spécifiques du langage.\n",
        "\n",
        "Vous trouverez ici quelques [ressources](https://forums.fast.ai/t/recommended-python-learning-resources/26888). \n",
        "\n",
        "###Environnement\n",
        "Soit vous utilisez [Google Colaboratory,](https://colab.research.google.com/notebooks/welcome.ipynb) ce que je recommande fortement puisqu'ill vous permet d'écrire et d'exécuter du code, de le sauvegarder et le partager gratuitement, depuis votre navigateur. \n",
        "\n",
        "Colab utilise Jupyter (ce que je fais systématiquement) et vous permet, cerise sur le gâteau, de bénéficier gratuitement de GPU et même TPU.\n",
        "\n",
        "Mais si pour une raison que j'ignore, vous préférez travaillez en local ou avec d'autres ressources, alors installez [Anaconda](http://intelligence-artificielle.agency/anaconda/)."
      ]
    },
    {
      "metadata": {
        "id": "LkL6EHR7XEuB",
        "colab_type": "code",
        "colab": {}
      },
      "cell_type": "code",
      "source": [
        ""
      ],
      "execution_count": 0,
      "outputs": []
    }
  ]
}